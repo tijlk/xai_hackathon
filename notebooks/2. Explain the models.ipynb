{
 "cells": [
  {
   "cell_type": "code",
   "execution_count": 6,
   "id": "20516546-23d1-4758-bc6a-0e6657ef9af0",
   "metadata": {},
   "outputs": [
    {
     "ename": "ImportError",
     "evalue": "cannot import name 'TypeAliasType' from 'typing_extensions' (/Users/eq81tw/Developer/xai-hackathon/venv/lib/python3.9/site-packages/typing_extensions.py)",
     "output_type": "error",
     "traceback": [
      "\u001b[0;31m---------------------------------------------------------------------------\u001b[0m",
      "\u001b[0;31mImportError\u001b[0m                               Traceback (most recent call last)",
      "File \u001b[0;32m~/Developer/xai-hackathon/venv/lib/python3.9/site-packages/confection/__init__.py:38\u001b[0m\n\u001b[1;32m     37\u001b[0m \u001b[38;5;28;01mtry\u001b[39;00m:\n\u001b[0;32m---> 38\u001b[0m     \u001b[38;5;28;01mfrom\u001b[39;00m \u001b[38;5;21;01mpydantic\u001b[39;00m\u001b[38;5;21;01m.\u001b[39;00m\u001b[38;5;21;01mv1\u001b[39;00m \u001b[38;5;28;01mimport\u001b[39;00m BaseModel, Extra, ValidationError, create_model\n\u001b[1;32m     39\u001b[0m     \u001b[38;5;28;01mfrom\u001b[39;00m \u001b[38;5;21;01mpydantic\u001b[39;00m\u001b[38;5;21;01m.\u001b[39;00m\u001b[38;5;21;01mv1\u001b[39;00m\u001b[38;5;21;01m.\u001b[39;00m\u001b[38;5;21;01mfields\u001b[39;00m \u001b[38;5;28;01mimport\u001b[39;00m ModelField\n",
      "File \u001b[0;32m~/Developer/xai-hackathon/venv/lib/python3.9/site-packages/pydantic/__init__.py:13\u001b[0m\n\u001b[1;32m      4\u001b[0m \u001b[38;5;28;01mfrom\u001b[39;00m \u001b[38;5;21;01mpydantic_core\u001b[39;00m\u001b[38;5;21;01m.\u001b[39;00m\u001b[38;5;21;01mcore_schema\u001b[39;00m \u001b[38;5;28;01mimport\u001b[39;00m (\n\u001b[1;32m      5\u001b[0m     FieldSerializationInfo,\n\u001b[1;32m      6\u001b[0m     FieldValidationInfo,\n\u001b[0;32m   (...)\u001b[0m\n\u001b[1;32m     10\u001b[0m     ValidatorFunctionWrapHandler,\n\u001b[1;32m     11\u001b[0m )\n\u001b[0;32m---> 13\u001b[0m \u001b[38;5;28;01mfrom\u001b[39;00m \u001b[38;5;21;01m.\u001b[39;00m \u001b[38;5;28;01mimport\u001b[39;00m dataclasses\n\u001b[1;32m     14\u001b[0m \u001b[38;5;28;01mfrom\u001b[39;00m \u001b[38;5;21;01m.\u001b[39;00m\u001b[38;5;21;01m_internal\u001b[39;00m\u001b[38;5;21;01m.\u001b[39;00m\u001b[38;5;21;01m_annotated_handlers\u001b[39;00m \u001b[38;5;28;01mimport\u001b[39;00m (\n\u001b[1;32m     15\u001b[0m     GetCoreSchemaHandler \u001b[38;5;28;01mas\u001b[39;00m GetCoreSchemaHandler,\n\u001b[1;32m     16\u001b[0m )\n",
      "File \u001b[0;32m~/Developer/xai-hackathon/venv/lib/python3.9/site-packages/pydantic/dataclasses.py:11\u001b[0m\n\u001b[1;32m      9\u001b[0m \u001b[38;5;28;01mfrom\u001b[39;00m \u001b[38;5;21;01mtyping_extensions\u001b[39;00m \u001b[38;5;28;01mimport\u001b[39;00m Literal, dataclass_transform\n\u001b[0;32m---> 11\u001b[0m \u001b[38;5;28;01mfrom\u001b[39;00m \u001b[38;5;21;01m.\u001b[39;00m\u001b[38;5;21;01m_internal\u001b[39;00m \u001b[38;5;28;01mimport\u001b[39;00m _config, _decorators, _typing_extra\n\u001b[1;32m     12\u001b[0m \u001b[38;5;28;01mfrom\u001b[39;00m \u001b[38;5;21;01m.\u001b[39;00m\u001b[38;5;21;01m_internal\u001b[39;00m \u001b[38;5;28;01mimport\u001b[39;00m _dataclasses \u001b[38;5;28;01mas\u001b[39;00m _pydantic_dataclasses\n",
      "File \u001b[0;32m~/Developer/xai-hackathon/venv/lib/python3.9/site-packages/pydantic/_internal/_decorators.py:15\u001b[0m\n\u001b[1;32m     14\u001b[0m \u001b[38;5;28;01mfrom\u001b[39;00m \u001b[38;5;21;01m.\u001b[39;00m\u001b[38;5;21;01m.\u001b[39;00m\u001b[38;5;21;01merrors\u001b[39;00m \u001b[38;5;28;01mimport\u001b[39;00m PydanticUserError\n\u001b[0;32m---> 15\u001b[0m \u001b[38;5;28;01mfrom\u001b[39;00m \u001b[38;5;21;01m.\u001b[39;00m\u001b[38;5;21;01m.\u001b[39;00m\u001b[38;5;21;01mfields\u001b[39;00m \u001b[38;5;28;01mimport\u001b[39;00m ComputedFieldInfo\n\u001b[1;32m     16\u001b[0m \u001b[38;5;28;01mfrom\u001b[39;00m \u001b[38;5;21;01m.\u001b[39;00m\u001b[38;5;21;01m_core_utils\u001b[39;00m \u001b[38;5;28;01mimport\u001b[39;00m get_type_ref\n",
      "File \u001b[0;32m~/Developer/xai-hackathon/venv/lib/python3.9/site-packages/pydantic/fields.py:18\u001b[0m\n\u001b[1;32m     16\u001b[0m \u001b[38;5;28;01mfrom\u001b[39;00m \u001b[38;5;21;01mtyping_extensions\u001b[39;00m \u001b[38;5;28;01mimport\u001b[39;00m Literal, Unpack\n\u001b[0;32m---> 18\u001b[0m \u001b[38;5;28;01mfrom\u001b[39;00m \u001b[38;5;21;01m.\u001b[39;00m \u001b[38;5;28;01mimport\u001b[39;00m types\n\u001b[1;32m     19\u001b[0m \u001b[38;5;28;01mfrom\u001b[39;00m \u001b[38;5;21;01m.\u001b[39;00m\u001b[38;5;21;01m_internal\u001b[39;00m \u001b[38;5;28;01mimport\u001b[39;00m _decorators, _fields, _generics, _internal_dataclass, _repr, _typing_extra, _utils\n",
      "File \u001b[0;32m~/Developer/xai-hackathon/venv/lib/python3.9/site-packages/pydantic/types.py:34\u001b[0m\n\u001b[1;32m     32\u001b[0m \u001b[38;5;28;01mfrom\u001b[39;00m \u001b[38;5;21;01mtyping_extensions\u001b[39;00m \u001b[38;5;28;01mimport\u001b[39;00m Annotated, Literal, Protocol, deprecated\n\u001b[0;32m---> 34\u001b[0m \u001b[38;5;28;01mfrom\u001b[39;00m \u001b[38;5;21;01m.\u001b[39;00m\u001b[38;5;21;01m_internal\u001b[39;00m \u001b[38;5;28;01mimport\u001b[39;00m (\n\u001b[1;32m     35\u001b[0m     _annotated_handlers,\n\u001b[1;32m     36\u001b[0m     _fields,\n\u001b[1;32m     37\u001b[0m     _internal_dataclass,\n\u001b[1;32m     38\u001b[0m     _known_annotated_metadata,\n\u001b[1;32m     39\u001b[0m     _utils,\n\u001b[1;32m     40\u001b[0m     _validators,\n\u001b[1;32m     41\u001b[0m )\n\u001b[1;32m     42\u001b[0m \u001b[38;5;28;01mfrom\u001b[39;00m \u001b[38;5;21;01m.\u001b[39;00m\u001b[38;5;21;01m_migration\u001b[39;00m \u001b[38;5;28;01mimport\u001b[39;00m getattr_migration\n",
      "File \u001b[0;32m~/Developer/xai-hackathon/venv/lib/python3.9/site-packages/pydantic/_internal/_fields.py:13\u001b[0m\n\u001b[1;32m     11\u001b[0m \u001b[38;5;28;01mfrom\u001b[39;00m \u001b[38;5;21;01mpydantic_core\u001b[39;00m \u001b[38;5;28;01mimport\u001b[39;00m PydanticUndefined\n\u001b[0;32m---> 13\u001b[0m \u001b[38;5;28;01mfrom\u001b[39;00m \u001b[38;5;21;01m.\u001b[39;00m \u001b[38;5;28;01mimport\u001b[39;00m _typing_extra\n\u001b[1;32m     14\u001b[0m \u001b[38;5;28;01mfrom\u001b[39;00m \u001b[38;5;21;01m.\u001b[39;00m\u001b[38;5;21;01m_config\u001b[39;00m \u001b[38;5;28;01mimport\u001b[39;00m ConfigWrapper\n",
      "File \u001b[0;32m~/Developer/xai-hackathon/venv/lib/python3.9/site-packages/pydantic/_internal/_typing_extra.py:13\u001b[0m\n\u001b[1;32m     11\u001b[0m \u001b[38;5;28;01mfrom\u001b[39;00m \u001b[38;5;21;01mtyping\u001b[39;00m \u001b[38;5;28;01mimport\u001b[39;00m TYPE_CHECKING, Any, ForwardRef\n\u001b[0;32m---> 13\u001b[0m \u001b[38;5;28;01mfrom\u001b[39;00m \u001b[38;5;21;01mtyping_extensions\u001b[39;00m \u001b[38;5;28;01mimport\u001b[39;00m Annotated, Final, Literal, TypeAliasType, TypeGuard, get_args, get_origin\n\u001b[1;32m     15\u001b[0m \u001b[38;5;28;01mif\u001b[39;00m TYPE_CHECKING:\n",
      "\u001b[0;31mImportError\u001b[0m: cannot import name 'TypeAliasType' from 'typing_extensions' (/Users/eq81tw/Developer/xai-hackathon/venv/lib/python3.9/site-packages/typing_extensions.py)",
      "\nDuring handling of the above exception, another exception occurred:\n",
      "\u001b[0;31mImportError\u001b[0m                               Traceback (most recent call last)",
      "Cell \u001b[0;32mIn[6], line 8\u001b[0m\n\u001b[1;32m      6\u001b[0m \u001b[38;5;28;01mimport\u001b[39;00m \u001b[38;5;21;01mrandom\u001b[39;00m\n\u001b[1;32m      7\u001b[0m \u001b[38;5;28;01mimport\u001b[39;00m \u001b[38;5;21;01mxgboost\u001b[39;00m \u001b[38;5;28;01mas\u001b[39;00m \u001b[38;5;21;01mxgb\u001b[39;00m\n\u001b[0;32m----> 8\u001b[0m \u001b[38;5;28;01mfrom\u001b[39;00m \u001b[38;5;21;01malibi\u001b[39;00m\u001b[38;5;21;01m.\u001b[39;00m\u001b[38;5;21;01mexplainers\u001b[39;00m \u001b[38;5;28;01mimport\u001b[39;00m AnchorTabular\n\u001b[1;32m      9\u001b[0m \u001b[38;5;28;01mfrom\u001b[39;00m \u001b[38;5;21;01malibi\u001b[39;00m\u001b[38;5;21;01m.\u001b[39;00m\u001b[38;5;21;01mexplainers\u001b[39;00m \u001b[38;5;28;01mimport\u001b[39;00m CounterFactualProto\n\u001b[1;32m     10\u001b[0m \u001b[38;5;28;01mimport\u001b[39;00m \u001b[38;5;21;01mnumpy\u001b[39;00m \u001b[38;5;28;01mas\u001b[39;00m \u001b[38;5;21;01mnp\u001b[39;00m\n",
      "File \u001b[0;32m~/Developer/xai-hackathon/venv/lib/python3.9/site-packages/alibi/__init__.py:1\u001b[0m\n\u001b[0;32m----> 1\u001b[0m \u001b[38;5;28;01mfrom\u001b[39;00m \u001b[38;5;21;01m.\u001b[39;00m \u001b[38;5;28;01mimport\u001b[39;00m confidence, datasets, explainers, prototypes, utils\n\u001b[1;32m      2\u001b[0m \u001b[38;5;28;01mfrom\u001b[39;00m \u001b[38;5;21;01m.\u001b[39;00m\u001b[38;5;21;01mversion\u001b[39;00m \u001b[38;5;28;01mimport\u001b[39;00m __version__  \u001b[38;5;66;03m# noqa F401\u001b[39;00m\n\u001b[1;32m      4\u001b[0m __all__ \u001b[38;5;241m=\u001b[39m [\u001b[38;5;124m'\u001b[39m\u001b[38;5;124mconfidence\u001b[39m\u001b[38;5;124m'\u001b[39m, \u001b[38;5;124m'\u001b[39m\u001b[38;5;124mdatasets\u001b[39m\u001b[38;5;124m'\u001b[39m, \u001b[38;5;124m'\u001b[39m\u001b[38;5;124mexplainers\u001b[39m\u001b[38;5;124m'\u001b[39m, \u001b[38;5;124m'\u001b[39m\u001b[38;5;124mprototypes\u001b[39m\u001b[38;5;124m'\u001b[39m, \u001b[38;5;124m'\u001b[39m\u001b[38;5;124mutils\u001b[39m\u001b[38;5;124m'\u001b[39m]\n",
      "File \u001b[0;32m~/Developer/xai-hackathon/venv/lib/python3.9/site-packages/alibi/datasets/__init__.py:1\u001b[0m\n\u001b[0;32m----> 1\u001b[0m \u001b[38;5;28;01mfrom\u001b[39;00m \u001b[38;5;21;01malibi\u001b[39;00m\u001b[38;5;21;01m.\u001b[39;00m\u001b[38;5;21;01mutils\u001b[39;00m\u001b[38;5;21;01m.\u001b[39;00m\u001b[38;5;21;01mmissing_optional_dependency\u001b[39;00m \u001b[38;5;28;01mimport\u001b[39;00m import_optional\n\u001b[1;32m      2\u001b[0m \u001b[38;5;28;01mfrom\u001b[39;00m \u001b[38;5;21;01m.\u001b[39;00m\u001b[38;5;21;01mdefault\u001b[39;00m \u001b[38;5;28;01mimport\u001b[39;00m fetch_adult, fetch_imagenet, fetch_movie_sentiment, load_cats, fetch_imagenet_10\n\u001b[1;32m      4\u001b[0m fetch_fashion_mnist \u001b[38;5;241m=\u001b[39m import_optional(\u001b[38;5;124m'\u001b[39m\u001b[38;5;124malibi.datasets.tensorflow\u001b[39m\u001b[38;5;124m'\u001b[39m, names\u001b[38;5;241m=\u001b[39m[\u001b[38;5;124m'\u001b[39m\u001b[38;5;124mfetch_fashion_mnist\u001b[39m\u001b[38;5;124m'\u001b[39m])\n",
      "File \u001b[0;32m~/Developer/xai-hackathon/venv/lib/python3.9/site-packages/alibi/utils/__init__.py:5\u001b[0m\n\u001b[1;32m      2\u001b[0m \u001b[38;5;28;01mfrom\u001b[39;00m \u001b[38;5;21;01mtyping\u001b[39;00m \u001b[38;5;28;01mimport\u001b[39;00m Type\n\u001b[1;32m      4\u001b[0m \u001b[38;5;28;01mfrom\u001b[39;00m \u001b[38;5;21;01m.\u001b[39;00m\u001b[38;5;21;01mdata\u001b[39;00m \u001b[38;5;28;01mimport\u001b[39;00m gen_category_map\n\u001b[0;32m----> 5\u001b[0m \u001b[38;5;28;01mfrom\u001b[39;00m \u001b[38;5;21;01m.\u001b[39;00m\u001b[38;5;21;01mdownload\u001b[39;00m \u001b[38;5;28;01mimport\u001b[39;00m spacy_model\n\u001b[1;32m      6\u001b[0m \u001b[38;5;28;01mfrom\u001b[39;00m \u001b[38;5;21;01m.\u001b[39;00m\u001b[38;5;21;01mmapping\u001b[39;00m \u001b[38;5;28;01mimport\u001b[39;00m ohe_to_ord, ord_to_ohe\n\u001b[1;32m      7\u001b[0m \u001b[38;5;28;01mfrom\u001b[39;00m \u001b[38;5;21;01m.\u001b[39;00m\u001b[38;5;21;01mmissing_optional_dependency\u001b[39;00m \u001b[38;5;28;01mimport\u001b[39;00m import_optional\n",
      "File \u001b[0;32m~/Developer/xai-hackathon/venv/lib/python3.9/site-packages/alibi/utils/download.py:1\u001b[0m\n\u001b[0;32m----> 1\u001b[0m \u001b[38;5;28;01mimport\u001b[39;00m \u001b[38;5;21;01mspacy\u001b[39;00m\n\u001b[1;32m      2\u001b[0m \u001b[38;5;28;01mfrom\u001b[39;00m \u001b[38;5;21;01mspacy\u001b[39;00m\u001b[38;5;21;01m.\u001b[39;00m\u001b[38;5;21;01mutil\u001b[39;00m \u001b[38;5;28;01mimport\u001b[39;00m get_package_path\n\u001b[1;32m      3\u001b[0m \u001b[38;5;28;01mfrom\u001b[39;00m \u001b[38;5;21;01mspacy\u001b[39;00m\u001b[38;5;21;01m.\u001b[39;00m\u001b[38;5;21;01mcli\u001b[39;00m \u001b[38;5;28;01mimport\u001b[39;00m download, link\n",
      "File \u001b[0;32m~/Developer/xai-hackathon/venv/lib/python3.9/site-packages/spacy/__init__.py:6\u001b[0m\n\u001b[1;32m      3\u001b[0m \u001b[38;5;28;01mfrom\u001b[39;00m \u001b[38;5;21;01mtyping\u001b[39;00m \u001b[38;5;28;01mimport\u001b[39;00m Any, Dict, Iterable, Union\n\u001b[1;32m      5\u001b[0m \u001b[38;5;66;03m# set library-specific custom warning handling before doing anything else\u001b[39;00m\n\u001b[0;32m----> 6\u001b[0m \u001b[38;5;28;01mfrom\u001b[39;00m \u001b[38;5;21;01m.\u001b[39;00m\u001b[38;5;21;01merrors\u001b[39;00m \u001b[38;5;28;01mimport\u001b[39;00m setup_default_warnings\n\u001b[1;32m      8\u001b[0m setup_default_warnings()  \u001b[38;5;66;03m# noqa: E402\u001b[39;00m\n\u001b[1;32m     10\u001b[0m \u001b[38;5;66;03m# These are imported as part of the API\u001b[39;00m\n",
      "File \u001b[0;32m~/Developer/xai-hackathon/venv/lib/python3.9/site-packages/spacy/errors.py:3\u001b[0m\n\u001b[1;32m      1\u001b[0m \u001b[38;5;28;01mimport\u001b[39;00m \u001b[38;5;21;01mwarnings\u001b[39;00m\n\u001b[0;32m----> 3\u001b[0m \u001b[38;5;28;01mfrom\u001b[39;00m \u001b[38;5;21;01m.\u001b[39;00m\u001b[38;5;21;01mcompat\u001b[39;00m \u001b[38;5;28;01mimport\u001b[39;00m Literal\n\u001b[1;32m      6\u001b[0m \u001b[38;5;28;01mclass\u001b[39;00m \u001b[38;5;21;01mErrorsWithCodes\u001b[39;00m(\u001b[38;5;28mtype\u001b[39m):\n\u001b[1;32m      7\u001b[0m     \u001b[38;5;28;01mdef\u001b[39;00m \u001b[38;5;21m__getattribute__\u001b[39m(\u001b[38;5;28mself\u001b[39m, code):\n",
      "File \u001b[0;32m~/Developer/xai-hackathon/venv/lib/python3.9/site-packages/spacy/compat.py:4\u001b[0m\n\u001b[1;32m      1\u001b[0m \u001b[38;5;124;03m\"\"\"Helpers for Python and platform compatibility.\"\"\"\u001b[39;00m\n\u001b[1;32m      2\u001b[0m \u001b[38;5;28;01mimport\u001b[39;00m \u001b[38;5;21;01msys\u001b[39;00m\n\u001b[0;32m----> 4\u001b[0m \u001b[38;5;28;01mfrom\u001b[39;00m \u001b[38;5;21;01mthinc\u001b[39;00m\u001b[38;5;21;01m.\u001b[39;00m\u001b[38;5;21;01mutil\u001b[39;00m \u001b[38;5;28;01mimport\u001b[39;00m copy_array\n\u001b[1;32m      6\u001b[0m \u001b[38;5;28;01mtry\u001b[39;00m:\n\u001b[1;32m      7\u001b[0m     \u001b[38;5;28;01mimport\u001b[39;00m \u001b[38;5;21;01mcPickle\u001b[39;00m \u001b[38;5;28;01mas\u001b[39;00m \u001b[38;5;21;01mpickle\u001b[39;00m\n",
      "File \u001b[0;32m~/Developer/xai-hackathon/venv/lib/python3.9/site-packages/thinc/__init__.py:5\u001b[0m\n\u001b[1;32m      2\u001b[0m \u001b[38;5;28;01mimport\u001b[39;00m \u001b[38;5;21;01mnumpy\u001b[39;00m\n\u001b[1;32m      4\u001b[0m \u001b[38;5;28;01mfrom\u001b[39;00m \u001b[38;5;21;01m.\u001b[39;00m\u001b[38;5;21;01mabout\u001b[39;00m \u001b[38;5;28;01mimport\u001b[39;00m __version__\n\u001b[0;32m----> 5\u001b[0m \u001b[38;5;28;01mfrom\u001b[39;00m \u001b[38;5;21;01m.\u001b[39;00m\u001b[38;5;21;01mconfig\u001b[39;00m \u001b[38;5;28;01mimport\u001b[39;00m registry\n\u001b[1;32m      7\u001b[0m \u001b[38;5;66;03m# fmt: off\u001b[39;00m\n\u001b[1;32m      8\u001b[0m __all__ \u001b[38;5;241m=\u001b[39m [\n\u001b[1;32m      9\u001b[0m     \u001b[38;5;124m\"\u001b[39m\u001b[38;5;124mregistry\u001b[39m\u001b[38;5;124m\"\u001b[39m,\n\u001b[1;32m     10\u001b[0m     \u001b[38;5;124m\"\u001b[39m\u001b[38;5;124m__version__\u001b[39m\u001b[38;5;124m\"\u001b[39m,\n\u001b[1;32m     11\u001b[0m ]\n",
      "File \u001b[0;32m~/Developer/xai-hackathon/venv/lib/python3.9/site-packages/thinc/config.py:2\u001b[0m\n\u001b[1;32m      1\u001b[0m \u001b[38;5;28;01mimport\u001b[39;00m \u001b[38;5;21;01mcatalogue\u001b[39;00m\n\u001b[0;32m----> 2\u001b[0m \u001b[38;5;28;01mimport\u001b[39;00m \u001b[38;5;21;01mconfection\u001b[39;00m\n\u001b[1;32m      3\u001b[0m \u001b[38;5;28;01mfrom\u001b[39;00m \u001b[38;5;21;01mconfection\u001b[39;00m \u001b[38;5;28;01mimport\u001b[39;00m VARIABLE_RE, Config, ConfigValidationError, Promise\n\u001b[1;32m      5\u001b[0m \u001b[38;5;28;01mfrom\u001b[39;00m \u001b[38;5;21;01m.\u001b[39;00m\u001b[38;5;21;01mtypes\u001b[39;00m \u001b[38;5;28;01mimport\u001b[39;00m Decorator\n",
      "File \u001b[0;32m~/Developer/xai-hackathon/venv/lib/python3.9/site-packages/confection/__init__.py:42\u001b[0m\n\u001b[1;32m     40\u001b[0m     \u001b[38;5;28;01mfrom\u001b[39;00m \u001b[38;5;21;01mpydantic\u001b[39;00m\u001b[38;5;21;01m.\u001b[39;00m\u001b[38;5;21;01mv1\u001b[39;00m\u001b[38;5;21;01m.\u001b[39;00m\u001b[38;5;21;01mmain\u001b[39;00m \u001b[38;5;28;01mimport\u001b[39;00m ModelMetaclass\n\u001b[1;32m     41\u001b[0m \u001b[38;5;28;01mexcept\u001b[39;00m \u001b[38;5;167;01mImportError\u001b[39;00m:\n\u001b[0;32m---> 42\u001b[0m     \u001b[38;5;28;01mfrom\u001b[39;00m \u001b[38;5;21;01mpydantic\u001b[39;00m \u001b[38;5;28;01mimport\u001b[39;00m BaseModel, create_model, ValidationError, Extra  \u001b[38;5;66;03m# type: ignore\u001b[39;00m\n\u001b[1;32m     43\u001b[0m     \u001b[38;5;28;01mfrom\u001b[39;00m \u001b[38;5;21;01mpydantic\u001b[39;00m\u001b[38;5;21;01m.\u001b[39;00m\u001b[38;5;21;01mmain\u001b[39;00m \u001b[38;5;28;01mimport\u001b[39;00m ModelMetaclass  \u001b[38;5;66;03m# type: ignore\u001b[39;00m\n\u001b[1;32m     44\u001b[0m     \u001b[38;5;28;01mfrom\u001b[39;00m \u001b[38;5;21;01mpydantic\u001b[39;00m\u001b[38;5;21;01m.\u001b[39;00m\u001b[38;5;21;01mfields\u001b[39;00m \u001b[38;5;28;01mimport\u001b[39;00m ModelField  \u001b[38;5;66;03m# type: ignore\u001b[39;00m\n",
      "File \u001b[0;32m~/Developer/xai-hackathon/venv/lib/python3.9/site-packages/pydantic/__init__.py:13\u001b[0m\n\u001b[1;32m      3\u001b[0m \u001b[38;5;28;01mimport\u001b[39;00m \u001b[38;5;21;01mpydantic_core\u001b[39;00m\n\u001b[1;32m      4\u001b[0m \u001b[38;5;28;01mfrom\u001b[39;00m \u001b[38;5;21;01mpydantic_core\u001b[39;00m\u001b[38;5;21;01m.\u001b[39;00m\u001b[38;5;21;01mcore_schema\u001b[39;00m \u001b[38;5;28;01mimport\u001b[39;00m (\n\u001b[1;32m      5\u001b[0m     FieldSerializationInfo,\n\u001b[1;32m      6\u001b[0m     FieldValidationInfo,\n\u001b[0;32m   (...)\u001b[0m\n\u001b[1;32m     10\u001b[0m     ValidatorFunctionWrapHandler,\n\u001b[1;32m     11\u001b[0m )\n\u001b[0;32m---> 13\u001b[0m \u001b[38;5;28;01mfrom\u001b[39;00m \u001b[38;5;21;01m.\u001b[39;00m \u001b[38;5;28;01mimport\u001b[39;00m dataclasses\n\u001b[1;32m     14\u001b[0m \u001b[38;5;28;01mfrom\u001b[39;00m \u001b[38;5;21;01m.\u001b[39;00m\u001b[38;5;21;01m_internal\u001b[39;00m\u001b[38;5;21;01m.\u001b[39;00m\u001b[38;5;21;01m_annotated_handlers\u001b[39;00m \u001b[38;5;28;01mimport\u001b[39;00m (\n\u001b[1;32m     15\u001b[0m     GetCoreSchemaHandler \u001b[38;5;28;01mas\u001b[39;00m GetCoreSchemaHandler,\n\u001b[1;32m     16\u001b[0m )\n\u001b[1;32m     17\u001b[0m \u001b[38;5;28;01mfrom\u001b[39;00m \u001b[38;5;21;01m.\u001b[39;00m\u001b[38;5;21;01m_internal\u001b[39;00m\u001b[38;5;21;01m.\u001b[39;00m\u001b[38;5;21;01m_annotated_handlers\u001b[39;00m \u001b[38;5;28;01mimport\u001b[39;00m (\n\u001b[1;32m     18\u001b[0m     GetJsonSchemaHandler \u001b[38;5;28;01mas\u001b[39;00m GetJsonSchemaHandler,\n\u001b[1;32m     19\u001b[0m )\n",
      "File \u001b[0;32m~/Developer/xai-hackathon/venv/lib/python3.9/site-packages/pydantic/dataclasses.py:11\u001b[0m\n\u001b[1;32m      7\u001b[0m \u001b[38;5;28;01mfrom\u001b[39;00m \u001b[38;5;21;01mtyping\u001b[39;00m \u001b[38;5;28;01mimport\u001b[39;00m TYPE_CHECKING, Any, Callable, Generic, NoReturn, TypeVar, overload\n\u001b[1;32m      9\u001b[0m \u001b[38;5;28;01mfrom\u001b[39;00m \u001b[38;5;21;01mtyping_extensions\u001b[39;00m \u001b[38;5;28;01mimport\u001b[39;00m Literal, dataclass_transform\n\u001b[0;32m---> 11\u001b[0m \u001b[38;5;28;01mfrom\u001b[39;00m \u001b[38;5;21;01m.\u001b[39;00m\u001b[38;5;21;01m_internal\u001b[39;00m \u001b[38;5;28;01mimport\u001b[39;00m _config, _decorators, _typing_extra\n\u001b[1;32m     12\u001b[0m \u001b[38;5;28;01mfrom\u001b[39;00m \u001b[38;5;21;01m.\u001b[39;00m\u001b[38;5;21;01m_internal\u001b[39;00m \u001b[38;5;28;01mimport\u001b[39;00m _dataclasses \u001b[38;5;28;01mas\u001b[39;00m _pydantic_dataclasses\n\u001b[1;32m     13\u001b[0m \u001b[38;5;28;01mfrom\u001b[39;00m \u001b[38;5;21;01m.\u001b[39;00m\u001b[38;5;21;01m_migration\u001b[39;00m \u001b[38;5;28;01mimport\u001b[39;00m getattr_migration\n",
      "File \u001b[0;32m~/Developer/xai-hackathon/venv/lib/python3.9/site-packages/pydantic/_internal/_decorators.py:15\u001b[0m\n\u001b[1;32m     12\u001b[0m \u001b[38;5;28;01mfrom\u001b[39;00m \u001b[38;5;21;01mtyping_extensions\u001b[39;00m \u001b[38;5;28;01mimport\u001b[39;00m Literal, TypeAlias, is_typeddict\n\u001b[1;32m     14\u001b[0m \u001b[38;5;28;01mfrom\u001b[39;00m \u001b[38;5;21;01m.\u001b[39;00m\u001b[38;5;21;01m.\u001b[39;00m\u001b[38;5;21;01merrors\u001b[39;00m \u001b[38;5;28;01mimport\u001b[39;00m PydanticUserError\n\u001b[0;32m---> 15\u001b[0m \u001b[38;5;28;01mfrom\u001b[39;00m \u001b[38;5;21;01m.\u001b[39;00m\u001b[38;5;21;01m.\u001b[39;00m\u001b[38;5;21;01mfields\u001b[39;00m \u001b[38;5;28;01mimport\u001b[39;00m ComputedFieldInfo\n\u001b[1;32m     16\u001b[0m \u001b[38;5;28;01mfrom\u001b[39;00m \u001b[38;5;21;01m.\u001b[39;00m\u001b[38;5;21;01m_core_utils\u001b[39;00m \u001b[38;5;28;01mimport\u001b[39;00m get_type_ref\n\u001b[1;32m     17\u001b[0m \u001b[38;5;28;01mfrom\u001b[39;00m \u001b[38;5;21;01m.\u001b[39;00m\u001b[38;5;21;01m_internal_dataclass\u001b[39;00m \u001b[38;5;28;01mimport\u001b[39;00m slots_true\n",
      "File \u001b[0;32m~/Developer/xai-hackathon/venv/lib/python3.9/site-packages/pydantic/fields.py:18\u001b[0m\n\u001b[1;32m     15\u001b[0m \u001b[38;5;28;01mfrom\u001b[39;00m \u001b[38;5;21;01mpydantic_core\u001b[39;00m \u001b[38;5;28;01mimport\u001b[39;00m PydanticUndefined\n\u001b[1;32m     16\u001b[0m \u001b[38;5;28;01mfrom\u001b[39;00m \u001b[38;5;21;01mtyping_extensions\u001b[39;00m \u001b[38;5;28;01mimport\u001b[39;00m Literal, Unpack\n\u001b[0;32m---> 18\u001b[0m \u001b[38;5;28;01mfrom\u001b[39;00m \u001b[38;5;21;01m.\u001b[39;00m \u001b[38;5;28;01mimport\u001b[39;00m types\n\u001b[1;32m     19\u001b[0m \u001b[38;5;28;01mfrom\u001b[39;00m \u001b[38;5;21;01m.\u001b[39;00m\u001b[38;5;21;01m_internal\u001b[39;00m \u001b[38;5;28;01mimport\u001b[39;00m _decorators, _fields, _generics, _internal_dataclass, _repr, _typing_extra, _utils\n\u001b[1;32m     20\u001b[0m \u001b[38;5;28;01mfrom\u001b[39;00m \u001b[38;5;21;01m.\u001b[39;00m\u001b[38;5;21;01merrors\u001b[39;00m \u001b[38;5;28;01mimport\u001b[39;00m PydanticUserError\n",
      "File \u001b[0;32m~/Developer/xai-hackathon/venv/lib/python3.9/site-packages/pydantic/types.py:34\u001b[0m\n\u001b[1;32m     31\u001b[0m \u001b[38;5;28;01mfrom\u001b[39;00m \u001b[38;5;21;01mpydantic_core\u001b[39;00m \u001b[38;5;28;01mimport\u001b[39;00m CoreSchema, PydanticCustomError, PydanticKnownError, core_schema\n\u001b[1;32m     32\u001b[0m \u001b[38;5;28;01mfrom\u001b[39;00m \u001b[38;5;21;01mtyping_extensions\u001b[39;00m \u001b[38;5;28;01mimport\u001b[39;00m Annotated, Literal, Protocol, deprecated\n\u001b[0;32m---> 34\u001b[0m \u001b[38;5;28;01mfrom\u001b[39;00m \u001b[38;5;21;01m.\u001b[39;00m\u001b[38;5;21;01m_internal\u001b[39;00m \u001b[38;5;28;01mimport\u001b[39;00m (\n\u001b[1;32m     35\u001b[0m     _annotated_handlers,\n\u001b[1;32m     36\u001b[0m     _fields,\n\u001b[1;32m     37\u001b[0m     _internal_dataclass,\n\u001b[1;32m     38\u001b[0m     _known_annotated_metadata,\n\u001b[1;32m     39\u001b[0m     _utils,\n\u001b[1;32m     40\u001b[0m     _validators,\n\u001b[1;32m     41\u001b[0m )\n\u001b[1;32m     42\u001b[0m \u001b[38;5;28;01mfrom\u001b[39;00m \u001b[38;5;21;01m.\u001b[39;00m\u001b[38;5;21;01m_migration\u001b[39;00m \u001b[38;5;28;01mimport\u001b[39;00m getattr_migration\n\u001b[1;32m     43\u001b[0m \u001b[38;5;28;01mfrom\u001b[39;00m \u001b[38;5;21;01m.\u001b[39;00m\u001b[38;5;21;01mconfig\u001b[39;00m \u001b[38;5;28;01mimport\u001b[39;00m ConfigDict\n",
      "File \u001b[0;32m~/Developer/xai-hackathon/venv/lib/python3.9/site-packages/pydantic/_internal/_fields.py:13\u001b[0m\n\u001b[1;32m     10\u001b[0m \u001b[38;5;28;01mfrom\u001b[39;00m \u001b[38;5;21;01mannotated_types\u001b[39;00m \u001b[38;5;28;01mimport\u001b[39;00m BaseMetadata\n\u001b[1;32m     11\u001b[0m \u001b[38;5;28;01mfrom\u001b[39;00m \u001b[38;5;21;01mpydantic_core\u001b[39;00m \u001b[38;5;28;01mimport\u001b[39;00m PydanticUndefined\n\u001b[0;32m---> 13\u001b[0m \u001b[38;5;28;01mfrom\u001b[39;00m \u001b[38;5;21;01m.\u001b[39;00m \u001b[38;5;28;01mimport\u001b[39;00m _typing_extra\n\u001b[1;32m     14\u001b[0m \u001b[38;5;28;01mfrom\u001b[39;00m \u001b[38;5;21;01m.\u001b[39;00m\u001b[38;5;21;01m_config\u001b[39;00m \u001b[38;5;28;01mimport\u001b[39;00m ConfigWrapper\n\u001b[1;32m     15\u001b[0m \u001b[38;5;28;01mfrom\u001b[39;00m \u001b[38;5;21;01m.\u001b[39;00m\u001b[38;5;21;01m_repr\u001b[39;00m \u001b[38;5;28;01mimport\u001b[39;00m Representation\n",
      "File \u001b[0;32m~/Developer/xai-hackathon/venv/lib/python3.9/site-packages/pydantic/_internal/_typing_extra.py:13\u001b[0m\n\u001b[1;32m     10\u001b[0m \u001b[38;5;28;01mfrom\u001b[39;00m \u001b[38;5;21;01mtypes\u001b[39;00m \u001b[38;5;28;01mimport\u001b[39;00m GetSetDescriptorType\n\u001b[1;32m     11\u001b[0m \u001b[38;5;28;01mfrom\u001b[39;00m \u001b[38;5;21;01mtyping\u001b[39;00m \u001b[38;5;28;01mimport\u001b[39;00m TYPE_CHECKING, Any, ForwardRef\n\u001b[0;32m---> 13\u001b[0m \u001b[38;5;28;01mfrom\u001b[39;00m \u001b[38;5;21;01mtyping_extensions\u001b[39;00m \u001b[38;5;28;01mimport\u001b[39;00m Annotated, Final, Literal, TypeAliasType, TypeGuard, get_args, get_origin\n\u001b[1;32m     15\u001b[0m \u001b[38;5;28;01mif\u001b[39;00m TYPE_CHECKING:\n\u001b[1;32m     16\u001b[0m     \u001b[38;5;28;01mfrom\u001b[39;00m \u001b[38;5;21;01m.\u001b[39;00m\u001b[38;5;21;01m_dataclasses\u001b[39;00m \u001b[38;5;28;01mimport\u001b[39;00m StandardDataclass\n",
      "\u001b[0;31mImportError\u001b[0m: cannot import name 'TypeAliasType' from 'typing_extensions' (/Users/eq81tw/Developer/xai-hackathon/venv/lib/python3.9/site-packages/typing_extensions.py)"
     ]
    }
   ],
   "source": [
    "import pandas as pd\n",
    "import pickle\n",
    "from sklearn.preprocessing import LabelEncoder, StandardScaler, OneHotEncoder\n",
    "from IPython.display import display\n",
    "from XAI.nn import BinaryClassifier\n",
    "import random\n",
    "import xgboost as xgb\n",
    "from alibi.explainers import AnchorTabular\n",
    "from alibi.explainers import CounterFactualProto\n",
    "import numpy as np\n"
   ]
  },
  {
   "cell_type": "code",
   "execution_count": null,
   "id": "ee459f4b-4040-4b3d-97f9-284e1e820a31",
   "metadata": {},
   "outputs": [],
   "source": [
    "X_train = pd.read_csv('../data/X_train.csv')\n",
    "y_train = pd.read_csv('../data/y_train.csv')\n",
    "X_test = pd.read_csv('../data/X_test.csv')\n",
    "y_test = pd.read_csv('../data/y_test.csv')"
   ]
  },
  {
   "cell_type": "code",
   "execution_count": null,
   "id": "af6f31af-92a9-4fe9-9bd6-81f7315fba30",
   "metadata": {},
   "outputs": [],
   "source": [
    "model_rf = pickle.load(open('../models/model_rf.sav', 'rb'))\n",
    "model_xgb = pickle.load(open('../models/model_xgb.sav', 'rb'))\n",
    "model_nn = pickle.load(open('../models/model_nn.sav', 'rb'))"
   ]
  },
  {
   "cell_type": "code",
   "execution_count": null,
   "id": "edaf9ee4-a066-4632-9950-993e6e5a240d",
   "metadata": {},
   "outputs": [],
   "source": [
    "# First step in explainable ai.\n",
    "feat_importances = pd.Series(model_rf.feature_importances_, index=X_train.columns)\n",
    "feat_importances.nlargest(10).sort_values().plot(kind='barh')"
   ]
  },
  {
   "cell_type": "markdown",
   "id": "a62c44ca",
   "metadata": {},
   "source": [
    "## Explanation through Anchors"
   ]
  },
  {
   "cell_type": "code",
   "execution_count": null,
   "id": "b869192a",
   "metadata": {},
   "outputs": [],
   "source": [
    "def create_rf_explainer(model):\n",
    "    # Create an anchor explainer for the Random Forest model\n",
    "    anchor_explainer = AnchorTabular(\n",
    "        lambda x: model.predict_proba(x),\n",
    "        list(X_train.columns)\n",
    "    )\n",
    "    anchor_explainer.fit(X_train.values)\n",
    "    return anchor_explainer\n",
    "\n",
    "def explain_rf(explainer, id_to_explain, threshold=0.85):\n",
    "    df_id = pd.DataFrame(X_test.loc[id_to_explain]).T\n",
    "    display(df_id.iloc[:,:10])\n",
    "    display(df_id.iloc[:,10:])\n",
    "    prediction = explainer.predictor(X_test.loc[id_to_explain].values.reshape(1, -1))[0]\n",
    "    print(f'Prediction: {prediction}')\n",
    "\n",
    "    anchor_explanation = explainer.explain(\n",
    "        X_test.loc[id_to_explain].values,  # features of the record to explain\n",
    "        threshold=threshold,\n",
    "        seed=42\n",
    "    )\n",
    "    print('Anchor: %s' % (' AND\\r\\n\\t'.join(anchor_explanation.anchor)))\n",
    "    print('Precision: %.3f' % anchor_explanation.precision)\n",
    "    print('Coverage: %.3f' % anchor_explanation.coverage)\n",
    "    print('\\n-----------------------------------------------------------------------------------------------\\n')\n",
    "    \n",
    "def random_id(df):\n",
    "    return random.randint(0, df.shape[0])"
   ]
  },
  {
   "cell_type": "code",
   "execution_count": null,
   "id": "24fea21b",
   "metadata": {},
   "outputs": [],
   "source": [
    "explainer = create_rf_explainer(model_rf)"
   ]
  },
  {
   "cell_type": "markdown",
   "id": "dffdaf22",
   "metadata": {},
   "source": [
    "### Threshold of 0.85"
   ]
  },
  {
   "cell_type": "code",
   "execution_count": null,
   "id": "dc293e04",
   "metadata": {},
   "outputs": [],
   "source": [
    "print(\"Use threshold of 0.85\")\n",
    "explain_rf(explainer, 3378)\n",
    "explain_rf(explainer, 4786)\n",
    "explain_rf(explainer, 3594)\n",
    "explain_rf(explainer, 7996)\n",
    "explain_rf(explainer, 12814)"
   ]
  },
  {
   "cell_type": "markdown",
   "id": "9a24f2fb",
   "metadata": {},
   "source": [
    "### Threshold of 0.6"
   ]
  },
  {
   "cell_type": "code",
   "execution_count": null,
   "id": "cb03460c",
   "metadata": {},
   "outputs": [],
   "source": [
    "print(\"Use threshold of 0.6\")\n",
    "explain_rf(explainer, 3378, threshold=0.6)\n",
    "explain_rf(explainer, 4786, threshold=0.6)\n",
    "explain_rf(explainer, 3594, threshold=0.6)\n",
    "explain_rf(explainer, 7996, threshold=0.6)\n",
    "explain_rf(explainer, 12814, threshold=0.6)"
   ]
  },
  {
   "cell_type": "markdown",
   "id": "73b033fb",
   "metadata": {},
   "source": [
    "### Threshold of 0.99"
   ]
  },
  {
   "cell_type": "code",
   "execution_count": null,
   "id": "e2594772",
   "metadata": {
    "scrolled": false
   },
   "outputs": [],
   "source": [
    "print(\"Use threshold of 0.99\")\n",
    "explain_rf(explainer, 3378, threshold=0.99)\n",
    "explain_rf(explainer, 4786, threshold=0.99)\n",
    "explain_rf(explainer, 3594, threshold=0.99)\n",
    "explain_rf(explainer, 7996, threshold=0.99)\n",
    "explain_rf(explainer, 12814, threshold=0.99)\n",
    "#explain_rf(explainer, random_id(X_test))"
   ]
  },
  {
   "cell_type": "code",
   "execution_count": null,
   "id": "8aa38454",
   "metadata": {},
   "outputs": [],
   "source": [
    "def create_xgb_explainer(model):\n",
    "    # Create an anchor explainer for the Random Forest model\n",
    "    anchor_explainer = AnchorTabular(\n",
    "        lambda x: model.predict(xgb.DMatrix(x)),\n",
    "        list(X_train.columns)\n",
    "    )\n",
    "    anchor_explainer.fit(X_train.as_matrix())\n",
    "    return anchor_explainer\n",
    "\n",
    "def explain_xgb(explainer, id_to_explain):\n",
    "    df_id = pd.DataFrame(X_test.loc[id_to_explain]).T\n",
    "    display(df_id.iloc[:,:10])\n",
    "    display(df_id.iloc[:,10:])\n",
    "    prediction = explainer.predictor(X_test.loc[id_to_explain])[0]\n",
    "    print(f'Prediction: {prediction}')\n",
    "\n",
    "    anchor_explanation = explainer.explain(\n",
    "        X_test.loc[id_to_explain].values,  # features of the record to explain\n",
    "        threshold=0.85,\n",
    "        seed=42\n",
    "    )\n",
    "    print('Anchor: %s' % (' AND\\r\\n\\t'.join(anchor_explanation.anchor)))\n",
    "    print('Precision: %.3f' % anchor_explanation.precision)\n",
    "    print('Coverage: %.3f' % anchor_explanation.coverage)\n",
    "    print('\\n-----------------------------------------------------------------------------------------------\\n')\n",
    "    \n",
    "explainer = create_xgb_explainer(model_xgb)\n",
    "explain_xgb(explainer, random_id(X_test))\n",
    "explain_xgb(explainer, random_id(X_test))\n",
    "explain_xgb(explainer, random_id(X_test))\n",
    "explain_xgb(explainer, random_id(X_test))"
   ]
  },
  {
   "cell_type": "markdown",
   "id": "383f5fc0",
   "metadata": {},
   "source": [
    "## Counterfactuals"
   ]
  },
  {
   "cell_type": "code",
   "execution_count": null,
   "id": "d4b54cc2",
   "metadata": {},
   "outputs": [],
   "source": [
    "feature_range = (X_train.values.min(axis=0).reshape(1,18).astype(np.float32),\\\n",
    "                 X_train.values.max(axis=0).reshape(1,18).astype(np.float32))\n",
    "print(feature_range)"
   ]
  },
  {
   "cell_type": "code",
   "execution_count": null,
   "id": "6bc5c448",
   "metadata": {},
   "outputs": [],
   "source": [
    "cf_rf_explainer = CounterFactualProto(\n",
    "    lambda x: model.predict_proba(x),\n",
    "    X_test.shape,\n",
    "    max_iterations=100,\n",
    "    feature_range=feature_range, \n",
    "    beta=.1, theta=5,\n",
    "    use_kdtree=True\n",
    ")\n",
    "cf_rf_explainer.fit(X_test.values, d_type='abdm-mvdm')"
   ]
  },
  {
   "cell_type": "code",
   "execution_count": null,
   "id": "445bc0d2",
   "metadata": {},
   "outputs": [],
   "source": []
  }
 ],
 "metadata": {
  "kernelspec": {
   "display_name": "xai",
   "language": "python",
   "name": "xai"
  },
  "language_info": {
   "codemirror_mode": {
    "name": "ipython",
    "version": 3
   },
   "file_extension": ".py",
   "mimetype": "text/x-python",
   "name": "python",
   "nbconvert_exporter": "python",
   "pygments_lexer": "ipython3",
   "version": "3.9.6"
  }
 },
 "nbformat": 4,
 "nbformat_minor": 5
}
