{
 "cells": [
  {
   "cell_type": "markdown",
   "id": "3d112dcd-e85f-4291-8a59-2ff7c79e6c83",
   "metadata": {},
   "source": [
    "## Import packages"
   ]
  },
  {
   "cell_type": "code",
   "execution_count": 1,
   "id": "642b3fa6-ee58-4bf1-9bf1-2aef82246fba",
   "metadata": {},
   "outputs": [],
   "source": [
    "import pandas as pd\n",
    "import numpy as np\n",
    "import pickle\n",
    "from sklearn.model_selection import train_test_split\n",
    "from sklearn.preprocessing import LabelEncoder, StandardScaler, OneHotEncoder\n",
    "import torch\n",
    "from torch import nn\n",
    "from torch.utils.data import DataLoader, TensorDataset\n",
    "import pytorch_lightning as pl\n",
    "from pytorch_lightning.loggers import TensorBoardLogger\n",
    "from pytorch_lightning.callbacks import ProgressBar\n",
    "\n",
    "import xgboost as xgb\n",
    "\n",
    "from sklearn.ensemble import RandomForestClassifier\n",
    "from sklearn.metrics import accuracy_score"
   ]
  },
  {
   "cell_type": "code",
   "execution_count": 2,
   "id": "d6e60696-f8b7-4506-b072-2512859f961d",
   "metadata": {},
   "outputs": [],
   "source": [
    "pd.options.display.max_columns = 40"
   ]
  },
  {
   "cell_type": "code",
   "execution_count": 3,
   "id": "6fd4f85e-27d4-4544-b3be-054d19ec3dcf",
   "metadata": {},
   "outputs": [],
   "source": [
    "from XAI.functions import create_confusion_matrix"
   ]
  },
  {
   "cell_type": "markdown",
   "id": "5e4faf6a-a094-470c-901c-902459b271d9",
   "metadata": {},
   "source": [
    "## Load dataset"
   ]
  },
  {
   "cell_type": "code",
   "execution_count": 24,
   "id": "58f9dad2-8db8-49fa-9023-090c90b548a8",
   "metadata": {},
   "outputs": [
    {
     "data": {
      "text/html": [
       "<div>\n",
       "<style scoped>\n",
       "    .dataframe tbody tr th:only-of-type {\n",
       "        vertical-align: middle;\n",
       "    }\n",
       "\n",
       "    .dataframe tbody tr th {\n",
       "        vertical-align: top;\n",
       "    }\n",
       "\n",
       "    .dataframe thead th {\n",
       "        text-align: right;\n",
       "    }\n",
       "</style>\n",
       "<table border=\"1\" class=\"dataframe\">\n",
       "  <thead>\n",
       "    <tr style=\"text-align: right;\">\n",
       "      <th></th>\n",
       "      <th>issue_d</th>\n",
       "      <th>loan_amnt</th>\n",
       "      <th>term</th>\n",
       "      <th>int_rate</th>\n",
       "      <th>grade</th>\n",
       "      <th>sub_grade</th>\n",
       "      <th>emp_length</th>\n",
       "      <th>home_ownership</th>\n",
       "      <th>annual_inc</th>\n",
       "      <th>purpose</th>\n",
       "      <th>loan_status</th>\n",
       "      <th>application_type</th>\n",
       "    </tr>\n",
       "  </thead>\n",
       "  <tbody>\n",
       "    <tr>\n",
       "      <th>0</th>\n",
       "      <td>2013-12-01</td>\n",
       "      <td>12000</td>\n",
       "      <td>36 months</td>\n",
       "      <td>6.62</td>\n",
       "      <td>A</td>\n",
       "      <td>A2</td>\n",
       "      <td>10+ years</td>\n",
       "      <td>MORTGAGE</td>\n",
       "      <td>105000.0</td>\n",
       "      <td>debt_consolidation</td>\n",
       "      <td>Fully Paid</td>\n",
       "      <td>Individual</td>\n",
       "    </tr>\n",
       "    <tr>\n",
       "      <th>1</th>\n",
       "      <td>2013-12-01</td>\n",
       "      <td>28000</td>\n",
       "      <td>36 months</td>\n",
       "      <td>7.62</td>\n",
       "      <td>A</td>\n",
       "      <td>A3</td>\n",
       "      <td>5 years</td>\n",
       "      <td>MORTGAGE</td>\n",
       "      <td>325000.0</td>\n",
       "      <td>debt_consolidation</td>\n",
       "      <td>Fully Paid</td>\n",
       "      <td>Individual</td>\n",
       "    </tr>\n",
       "    <tr>\n",
       "      <th>2</th>\n",
       "      <td>2013-12-01</td>\n",
       "      <td>27050</td>\n",
       "      <td>36 months</td>\n",
       "      <td>10.99</td>\n",
       "      <td>B</td>\n",
       "      <td>B2</td>\n",
       "      <td>10+ years</td>\n",
       "      <td>OWN</td>\n",
       "      <td>55000.0</td>\n",
       "      <td>debt_consolidation</td>\n",
       "      <td>Fully Paid</td>\n",
       "      <td>Individual</td>\n",
       "    </tr>\n",
       "  </tbody>\n",
       "</table>\n",
       "</div>"
      ],
      "text/plain": [
       "      issue_d  loan_amnt        term  int_rate grade sub_grade emp_length  \\\n",
       "0  2013-12-01      12000   36 months      6.62     A        A2  10+ years   \n",
       "1  2013-12-01      28000   36 months      7.62     A        A3    5 years   \n",
       "2  2013-12-01      27050   36 months     10.99     B        B2  10+ years   \n",
       "\n",
       "  home_ownership  annual_inc             purpose loan_status application_type  \n",
       "0       MORTGAGE    105000.0  debt_consolidation  Fully Paid       Individual  \n",
       "1       MORTGAGE    325000.0  debt_consolidation  Fully Paid       Individual  \n",
       "2            OWN     55000.0  debt_consolidation  Fully Paid       Individual  "
      ]
     },
     "execution_count": 24,
     "metadata": {},
     "output_type": "execute_result"
    }
   ],
   "source": [
    "df = pd.read_csv('../data/dataset_hackathon.csv')\n",
    "df.head(3)"
   ]
  },
  {
   "cell_type": "code",
   "execution_count": 5,
   "id": "04f9b70f-78fd-4936-935d-8e1722d8993f",
   "metadata": {},
   "outputs": [
    {
     "data": {
      "text/html": [
       "<div>\n",
       "<style scoped>\n",
       "    .dataframe tbody tr th:only-of-type {\n",
       "        vertical-align: middle;\n",
       "    }\n",
       "\n",
       "    .dataframe tbody tr th {\n",
       "        vertical-align: top;\n",
       "    }\n",
       "\n",
       "    .dataframe thead th {\n",
       "        text-align: right;\n",
       "    }\n",
       "</style>\n",
       "<table border=\"1\" class=\"dataframe\">\n",
       "  <thead>\n",
       "    <tr style=\"text-align: right;\">\n",
       "      <th></th>\n",
       "      <th>loan_amnt</th>\n",
       "      <th>int_rate</th>\n",
       "      <th>grade</th>\n",
       "      <th>emp_length</th>\n",
       "      <th>annual_inc</th>\n",
       "      <th>defaulted</th>\n",
       "      <th>term_ind</th>\n",
       "      <th>home_ownership_MORTGAGE</th>\n",
       "      <th>home_ownership_NONE</th>\n",
       "      <th>home_ownership_OTHER</th>\n",
       "      <th>home_ownership_OWN</th>\n",
       "      <th>home_ownership_RENT</th>\n",
       "      <th>purpose_car</th>\n",
       "      <th>purpose_credit_card</th>\n",
       "      <th>purpose_debt_consolidation</th>\n",
       "      <th>purpose_home_improvement</th>\n",
       "      <th>purpose_house</th>\n",
       "      <th>purpose_major_purchase</th>\n",
       "      <th>purpose_medical</th>\n",
       "      <th>purpose_moving</th>\n",
       "      <th>purpose_other</th>\n",
       "      <th>purpose_renewable_energy</th>\n",
       "      <th>purpose_small_business</th>\n",
       "      <th>purpose_vacation</th>\n",
       "      <th>purpose_wedding</th>\n",
       "    </tr>\n",
       "  </thead>\n",
       "  <tbody>\n",
       "    <tr>\n",
       "      <th>0</th>\n",
       "      <td>12000</td>\n",
       "      <td>6.62</td>\n",
       "      <td>0</td>\n",
       "      <td>10</td>\n",
       "      <td>105000.0</td>\n",
       "      <td>0</td>\n",
       "      <td>0</td>\n",
       "      <td>True</td>\n",
       "      <td>False</td>\n",
       "      <td>False</td>\n",
       "      <td>False</td>\n",
       "      <td>False</td>\n",
       "      <td>False</td>\n",
       "      <td>False</td>\n",
       "      <td>True</td>\n",
       "      <td>False</td>\n",
       "      <td>False</td>\n",
       "      <td>False</td>\n",
       "      <td>False</td>\n",
       "      <td>False</td>\n",
       "      <td>False</td>\n",
       "      <td>False</td>\n",
       "      <td>False</td>\n",
       "      <td>False</td>\n",
       "      <td>False</td>\n",
       "    </tr>\n",
       "    <tr>\n",
       "      <th>1</th>\n",
       "      <td>28000</td>\n",
       "      <td>7.62</td>\n",
       "      <td>0</td>\n",
       "      <td>5</td>\n",
       "      <td>325000.0</td>\n",
       "      <td>0</td>\n",
       "      <td>0</td>\n",
       "      <td>True</td>\n",
       "      <td>False</td>\n",
       "      <td>False</td>\n",
       "      <td>False</td>\n",
       "      <td>False</td>\n",
       "      <td>False</td>\n",
       "      <td>False</td>\n",
       "      <td>True</td>\n",
       "      <td>False</td>\n",
       "      <td>False</td>\n",
       "      <td>False</td>\n",
       "      <td>False</td>\n",
       "      <td>False</td>\n",
       "      <td>False</td>\n",
       "      <td>False</td>\n",
       "      <td>False</td>\n",
       "      <td>False</td>\n",
       "      <td>False</td>\n",
       "    </tr>\n",
       "    <tr>\n",
       "      <th>2</th>\n",
       "      <td>27050</td>\n",
       "      <td>10.99</td>\n",
       "      <td>1</td>\n",
       "      <td>10</td>\n",
       "      <td>55000.0</td>\n",
       "      <td>0</td>\n",
       "      <td>0</td>\n",
       "      <td>False</td>\n",
       "      <td>False</td>\n",
       "      <td>False</td>\n",
       "      <td>True</td>\n",
       "      <td>False</td>\n",
       "      <td>False</td>\n",
       "      <td>False</td>\n",
       "      <td>True</td>\n",
       "      <td>False</td>\n",
       "      <td>False</td>\n",
       "      <td>False</td>\n",
       "      <td>False</td>\n",
       "      <td>False</td>\n",
       "      <td>False</td>\n",
       "      <td>False</td>\n",
       "      <td>False</td>\n",
       "      <td>False</td>\n",
       "      <td>False</td>\n",
       "    </tr>\n",
       "  </tbody>\n",
       "</table>\n",
       "</div>"
      ],
      "text/plain": [
       "   loan_amnt  int_rate  grade  emp_length  annual_inc  defaulted  term_ind  \\\n",
       "0      12000      6.62      0          10    105000.0          0         0   \n",
       "1      28000      7.62      0           5    325000.0          0         0   \n",
       "2      27050     10.99      1          10     55000.0          0         0   \n",
       "\n",
       "   home_ownership_MORTGAGE  home_ownership_NONE  home_ownership_OTHER  \\\n",
       "0                     True                False                 False   \n",
       "1                     True                False                 False   \n",
       "2                    False                False                 False   \n",
       "\n",
       "   home_ownership_OWN  home_ownership_RENT  purpose_car  purpose_credit_card  \\\n",
       "0               False                False        False                False   \n",
       "1               False                False        False                False   \n",
       "2                True                False        False                False   \n",
       "\n",
       "   purpose_debt_consolidation  purpose_home_improvement  purpose_house  \\\n",
       "0                        True                     False          False   \n",
       "1                        True                     False          False   \n",
       "2                        True                     False          False   \n",
       "\n",
       "   purpose_major_purchase  purpose_medical  purpose_moving  purpose_other  \\\n",
       "0                   False            False           False          False   \n",
       "1                   False            False           False          False   \n",
       "2                   False            False           False          False   \n",
       "\n",
       "   purpose_renewable_energy  purpose_small_business  purpose_vacation  \\\n",
       "0                     False                   False             False   \n",
       "1                     False                   False             False   \n",
       "2                     False                   False             False   \n",
       "\n",
       "   purpose_wedding  \n",
       "0            False  \n",
       "1            False  \n",
       "2            False  "
      ]
     },
     "execution_count": 5,
     "metadata": {},
     "output_type": "execute_result"
    }
   ],
   "source": [
    "df['defaulted'] = df['loan_status'].apply(lambda x: 1 if x in ['Charged Off', 'Default'] else 0) #Target\n",
    "df['term_ind'] = df['term'].apply(lambda x: 1 if x in ['60 months'] else 0) #\n",
    "\n",
    "most_common = df['emp_length'].mode()[0]\n",
    "df['emp_length'].fillna(most_common, inplace=True)\n",
    "mapping = {\n",
    "    '< 1 year': 0,\n",
    "    '1 year': 1,\n",
    "    '2 years': 2,\n",
    "    '3 years': 3,\n",
    "    '4 years': 4,\n",
    "    '5 years': 5,\n",
    "    '6 years': 6,\n",
    "    '7 years': 7,\n",
    "    '8 years': 8,\n",
    "    '9 years': 9,\n",
    "    '10+ years': 10\n",
    "}\n",
    "df['emp_length'] = df['emp_length'].replace(mapping)\n",
    "\n",
    "mapping = {\n",
    "    'A': 0,\n",
    "    'B': 1,\n",
    "    'C': 2,\n",
    "    'D': 3,\n",
    "    'E': 4,\n",
    "    'F': 5,\n",
    "    'G': 6,\n",
    "}\n",
    "df['grade'] = df['grade'].replace(mapping)\n",
    "\n",
    "df = df.drop(['sub_grade', 'loan_status', 'application_type', 'term', 'issue_d'], axis=1)\n",
    "df = pd.get_dummies(df, columns=['home_ownership', 'purpose'])\n",
    "df.head(3)"
   ]
  },
  {
   "cell_type": "code",
   "execution_count": 6,
   "id": "bb6655b5-ee34-4aa7-8df5-72af16a7ad40",
   "metadata": {},
   "outputs": [],
   "source": [
    "df_test = pd.concat([df[df['defaulted']==0].sample(32963, random_state=1), df[df['defaulted']==1]]) # For the exercise I'm making equal samples"
   ]
  },
  {
   "cell_type": "code",
   "execution_count": 7,
   "id": "a5b54deb-580f-4bc6-a267-2019b1950db7",
   "metadata": {},
   "outputs": [
    {
     "data": {
      "text/plain": [
       "defaulted\n",
       "0    32963\n",
       "1    32963\n",
       "dtype: int64"
      ]
     },
     "execution_count": 7,
     "metadata": {},
     "output_type": "execute_result"
    }
   ],
   "source": [
    "df_test.groupby('defaulted').size()"
   ]
  },
  {
   "cell_type": "markdown",
   "id": "aad47160-eda4-4510-8d2d-dd8feeb18537",
   "metadata": {},
   "source": [
    "## preprocess data"
   ]
  },
  {
   "cell_type": "code",
   "execution_count": 8,
   "id": "4ed5b7e3-1fcf-48af-8b4b-a958e0f40c31",
   "metadata": {},
   "outputs": [],
   "source": [
    "# Split the data into train and test sets\n",
    "y = df_test['defaulted']\n",
    "X = df_test.drop('defaulted', axis=1)\n",
    "X_train, X_test, y_train, y_test = train_test_split(X, y, test_size=0.2, random_state=1)"
   ]
  },
  {
   "cell_type": "code",
   "execution_count": 9,
   "id": "a0bca27c-190f-4a06-a143-3feaed368001",
   "metadata": {},
   "outputs": [
    {
     "data": {
      "text/html": [
       "<div>\n",
       "<style scoped>\n",
       "    .dataframe tbody tr th:only-of-type {\n",
       "        vertical-align: middle;\n",
       "    }\n",
       "\n",
       "    .dataframe tbody tr th {\n",
       "        vertical-align: top;\n",
       "    }\n",
       "\n",
       "    .dataframe thead th {\n",
       "        text-align: right;\n",
       "    }\n",
       "</style>\n",
       "<table border=\"1\" class=\"dataframe\">\n",
       "  <thead>\n",
       "    <tr style=\"text-align: right;\">\n",
       "      <th></th>\n",
       "      <th>loan_amnt</th>\n",
       "      <th>int_rate</th>\n",
       "      <th>grade</th>\n",
       "      <th>emp_length</th>\n",
       "      <th>annual_inc</th>\n",
       "      <th>term_ind</th>\n",
       "      <th>home_ownership_MORTGAGE</th>\n",
       "      <th>home_ownership_NONE</th>\n",
       "      <th>home_ownership_OTHER</th>\n",
       "      <th>home_ownership_OWN</th>\n",
       "      <th>home_ownership_RENT</th>\n",
       "      <th>purpose_car</th>\n",
       "      <th>purpose_credit_card</th>\n",
       "      <th>purpose_debt_consolidation</th>\n",
       "      <th>purpose_home_improvement</th>\n",
       "      <th>purpose_house</th>\n",
       "      <th>purpose_major_purchase</th>\n",
       "      <th>purpose_medical</th>\n",
       "      <th>purpose_moving</th>\n",
       "      <th>purpose_other</th>\n",
       "      <th>purpose_renewable_energy</th>\n",
       "      <th>purpose_small_business</th>\n",
       "      <th>purpose_vacation</th>\n",
       "      <th>purpose_wedding</th>\n",
       "    </tr>\n",
       "  </thead>\n",
       "  <tbody>\n",
       "    <tr>\n",
       "      <th>102720</th>\n",
       "      <td>21850</td>\n",
       "      <td>8.90</td>\n",
       "      <td>0</td>\n",
       "      <td>1</td>\n",
       "      <td>100000.0</td>\n",
       "      <td>0</td>\n",
       "      <td>True</td>\n",
       "      <td>False</td>\n",
       "      <td>False</td>\n",
       "      <td>False</td>\n",
       "      <td>False</td>\n",
       "      <td>False</td>\n",
       "      <td>False</td>\n",
       "      <td>True</td>\n",
       "      <td>False</td>\n",
       "      <td>False</td>\n",
       "      <td>False</td>\n",
       "      <td>False</td>\n",
       "      <td>False</td>\n",
       "      <td>False</td>\n",
       "      <td>False</td>\n",
       "      <td>False</td>\n",
       "      <td>False</td>\n",
       "      <td>False</td>\n",
       "    </tr>\n",
       "    <tr>\n",
       "      <th>62761</th>\n",
       "      <td>16425</td>\n",
       "      <td>18.25</td>\n",
       "      <td>3</td>\n",
       "      <td>10</td>\n",
       "      <td>70000.0</td>\n",
       "      <td>0</td>\n",
       "      <td>True</td>\n",
       "      <td>False</td>\n",
       "      <td>False</td>\n",
       "      <td>False</td>\n",
       "      <td>False</td>\n",
       "      <td>False</td>\n",
       "      <td>False</td>\n",
       "      <td>True</td>\n",
       "      <td>False</td>\n",
       "      <td>False</td>\n",
       "      <td>False</td>\n",
       "      <td>False</td>\n",
       "      <td>False</td>\n",
       "      <td>False</td>\n",
       "      <td>False</td>\n",
       "      <td>False</td>\n",
       "      <td>False</td>\n",
       "      <td>False</td>\n",
       "    </tr>\n",
       "    <tr>\n",
       "      <th>36904</th>\n",
       "      <td>16000</td>\n",
       "      <td>13.67</td>\n",
       "      <td>1</td>\n",
       "      <td>10</td>\n",
       "      <td>67000.0</td>\n",
       "      <td>0</td>\n",
       "      <td>True</td>\n",
       "      <td>False</td>\n",
       "      <td>False</td>\n",
       "      <td>False</td>\n",
       "      <td>False</td>\n",
       "      <td>False</td>\n",
       "      <td>True</td>\n",
       "      <td>False</td>\n",
       "      <td>False</td>\n",
       "      <td>False</td>\n",
       "      <td>False</td>\n",
       "      <td>False</td>\n",
       "      <td>False</td>\n",
       "      <td>False</td>\n",
       "      <td>False</td>\n",
       "      <td>False</td>\n",
       "      <td>False</td>\n",
       "      <td>False</td>\n",
       "    </tr>\n",
       "  </tbody>\n",
       "</table>\n",
       "</div>"
      ],
      "text/plain": [
       "        loan_amnt  int_rate  grade  emp_length  annual_inc  term_ind  \\\n",
       "102720      21850      8.90      0           1    100000.0         0   \n",
       "62761       16425     18.25      3          10     70000.0         0   \n",
       "36904       16000     13.67      1          10     67000.0         0   \n",
       "\n",
       "        home_ownership_MORTGAGE  home_ownership_NONE  home_ownership_OTHER  \\\n",
       "102720                     True                False                 False   \n",
       "62761                      True                False                 False   \n",
       "36904                      True                False                 False   \n",
       "\n",
       "        home_ownership_OWN  home_ownership_RENT  purpose_car  \\\n",
       "102720               False                False        False   \n",
       "62761                False                False        False   \n",
       "36904                False                False        False   \n",
       "\n",
       "        purpose_credit_card  purpose_debt_consolidation  \\\n",
       "102720                False                        True   \n",
       "62761                 False                        True   \n",
       "36904                  True                       False   \n",
       "\n",
       "        purpose_home_improvement  purpose_house  purpose_major_purchase  \\\n",
       "102720                     False          False                   False   \n",
       "62761                      False          False                   False   \n",
       "36904                      False          False                   False   \n",
       "\n",
       "        purpose_medical  purpose_moving  purpose_other  \\\n",
       "102720            False           False          False   \n",
       "62761             False           False          False   \n",
       "36904             False           False          False   \n",
       "\n",
       "        purpose_renewable_energy  purpose_small_business  purpose_vacation  \\\n",
       "102720                     False                   False             False   \n",
       "62761                      False                   False             False   \n",
       "36904                      False                   False             False   \n",
       "\n",
       "        purpose_wedding  \n",
       "102720            False  \n",
       "62761             False  \n",
       "36904             False  "
      ]
     },
     "execution_count": 9,
     "metadata": {},
     "output_type": "execute_result"
    }
   ],
   "source": [
    "X.head(3)"
   ]
  },
  {
   "cell_type": "markdown",
   "id": "ef937d40-d9c9-4d74-b7d7-4c88ac679fc1",
   "metadata": {},
   "source": [
    "## Model 1 - Random Forest"
   ]
  },
  {
   "cell_type": "code",
   "execution_count": 10,
   "id": "9470c597-e4ea-4c7a-a0db-ecec412c1e8b",
   "metadata": {},
   "outputs": [
    {
     "name": "stdout",
     "output_type": "stream",
     "text": [
      "Train accuracy: 0.6460182025028441\n",
      "Test accuracy: 0.62900045502806\n"
     ]
    },
    {
     "data": {
      "text/plain": [
       "<module 'matplotlib.pyplot' from 'C:\\\\Users\\\\WJ03DC\\\\Anaconda3\\\\envs\\\\xai_hackathon\\\\Lib\\\\site-packages\\\\matplotlib\\\\pyplot.py'>"
      ]
     },
     "execution_count": 10,
     "metadata": {},
     "output_type": "execute_result"
    },
    {
     "data": {
      "image/png": "[encoded data removed]",
      "text/plain": [
       "<Figure size 640x480 with 2 Axes>"
      ]
     },
     "metadata": {},
     "output_type": "display_data"
    }
   ],
   "source": [
    "# Create the model\n",
    "model_rf = RandomForestClassifier(n_estimators=100, random_state=1, min_samples_leaf=40)\n",
    "\n",
    "# Train the model\n",
    "model_rf.fit(X_train, y_train)\n",
    "\n",
    "# Get predictions\n",
    "train_preds = model_rf.predict(X_train)\n",
    "test_preds = model_rf.predict(X_test)\n",
    "\n",
    "# Calculate and print the accuracy\n",
    "train_accuracy = accuracy_score(y_train, train_preds)\n",
    "test_accuracy = accuracy_score(y_test, test_preds)\n",
    "\n",
    "print(f\"Train accuracy: {train_accuracy}\")\n",
    "print(f\"Test accuracy: {test_accuracy}\")\n",
    "\n",
    "create_confusion_matrix(y_test, test_preds)"
   ]
  },
  {
   "cell_type": "markdown",
   "id": "c55e73b7-fbd3-48eb-9ea4-cb415f3c5e58",
   "metadata": {},
   "source": [
    "## Model 2 - XGBoost"
   ]
  },
  {
   "cell_type": "code",
   "execution_count": 11,
   "id": "80efdd08-b3c0-4bbb-a8b8-e5fbdb5951b5",
   "metadata": {},
   "outputs": [
    {
     "name": "stdout",
     "output_type": "stream",
     "text": [
      "Train accuracy: 0.6353621539628366\n",
      "Test accuracy: 0.6306688912482936\n"
     ]
    },
    {
     "data": {
      "text/plain": [
       "<module 'matplotlib.pyplot' from 'C:\\\\Users\\\\WJ03DC\\\\Anaconda3\\\\envs\\\\xai_hackathon\\\\Lib\\\\site-packages\\\\matplotlib\\\\pyplot.py'>"
      ]
     },
     "execution_count": 11,
     "metadata": {},
     "output_type": "execute_result"
    },
    {
     "data": {
      "image/png": "[encoded data removed]",
      "text/plain": [
       "<Figure size 640x480 with 2 Axes>"
      ]
     },
     "metadata": {},
     "output_type": "display_data"
    }
   ],
   "source": [
    "# Convert the dataset to DMatrix for xgboost\n",
    "dtrain = xgb.DMatrix(X_train, label=y_train)\n",
    "dtest = xgb.DMatrix(X_test, label=y_test)\n",
    "\n",
    "# Define the parameters for xgboost\n",
    "param = {\n",
    "    'max_depth': 3,  # Maximum depth of the trees\n",
    "    'eta': 0.3,  # Learning rate\n",
    "    'objective': 'multi:softmax',  # Loss function\n",
    "    'num_class': 2  # Number of classes\n",
    "}\n",
    "\n",
    "# Train the model\n",
    "num_round = 20  # Number of training rounds\n",
    "model_xgb = xgb.train(param, dtrain, num_round)\n",
    "\n",
    "# Get predictions\n",
    "train_preds = model_xgb.predict(dtrain)\n",
    "test_preds = model_xgb.predict(dtest)\n",
    "\n",
    "# Calculate and print the accuracy\n",
    "train_accuracy = accuracy_score(y_train, train_preds)\n",
    "test_accuracy = accuracy_score(y_test, test_preds)\n",
    "\n",
    "print(f\"Train accuracy: {train_accuracy}\")\n",
    "print(f\"Test accuracy: {test_accuracy}\")\n",
    "\n",
    "create_confusion_matrix(y_test, test_preds)"
   ]
  },
  {
   "cell_type": "markdown",
   "id": "8c700815-153a-4357-873a-81202e5c978d",
   "metadata": {},
   "source": [
    "## Export files"
   ]
  },
  {
   "cell_type": "code",
   "execution_count": 12,
   "id": "05aed4c7-c786-44fc-acf2-9f896651abb5",
   "metadata": {},
   "outputs": [],
   "source": [
    "X_train.to_csv('../data/X_train.csv', index = False)\n",
    "X_test.to_csv('../data/X_test.csv', index = False)\n",
    "y_train.to_csv('../data/y_train.csv', index = False)\n",
    "y_test.to_csv('../data/y_test.csv', index = False)"
   ]
  },
  {
   "cell_type": "code",
   "execution_count": 13,
   "id": "6c7808ae-d566-4fb5-9e7a-a19ce0ebc2c8",
   "metadata": {},
   "outputs": [],
   "source": [
    "pickle.dump(model_rf, open('../models/model_rf.sav', 'wb'))\n",
    "pickle.dump(model_xgb, open('../models/model_xgb.sav', 'wb'))"
   ]
  },
  {
   "cell_type": "markdown",
   "id": "26160cc9-25f4-4515-bf63-7bf84461503d",
   "metadata": {},
   "source": [
    "## Model 3 - Create NN model"
   ]
  },
  {
   "cell_type": "code",
   "execution_count": 14,
   "id": "632c83be-03e0-41dd-824a-f862bc4ee752",
   "metadata": {
    "jupyter": {
     "source_hidden": true
    }
   },
   "outputs": [],
   "source": [
    "# train_data = TensorDataset(torch.from_numpy(X_train.to_numpy().astype(np.float32)), torch.from_numpy(y_train.values))\n",
    "# test_data = TensorDataset(torch.from_numpy(X_test.to_numpy().astype(np.float32)), torch.from_numpy(y_test.values))\n",
    "\n",
    "# train_mean = np.array(X_train.mean(axis=0))\n",
    "# train_std = np.array(X_train.std(axis=0))"
   ]
  },
  {
   "cell_type": "code",
   "execution_count": 15,
   "id": "3545e7b6-5359-48dd-af3b-ea086357d039",
   "metadata": {
    "jupyter": {
     "source_hidden": true
    }
   },
   "outputs": [],
   "source": [
    "# class CustomScalingLayer(nn.Module):\n",
    "#     def __init__(self, mean, std):\n",
    "#         super().__init__()\n",
    "#         self.mean = torch.nn.Parameter(mean, requires_grad=False)\n",
    "#         self.std = torch.nn.Parameter(std, requires_grad=False)\n",
    "\n",
    "#     def forward(self, x):\n",
    "#         return (x - self.mean) / self.std"
   ]
  },
  {
   "cell_type": "code",
   "execution_count": 16,
   "id": "efe54d0a-17fc-48e4-88db-00d3051b6c4d",
   "metadata": {
    "jupyter": {
     "source_hidden": true
    }
   },
   "outputs": [],
   "source": [
    "# # Define a PyTorch Lightning Module\n",
    "# class BinaryClassifier(pl.LightningModule):\n",
    "#     def __init__(self, mean, std):\n",
    "#         super(BinaryClassifier, self).__init__()\n",
    "#         self.scaler = CustomScalingLayer(mean, std)\n",
    "#         self.layer_1 = nn.Linear(X_train.shape[1], 64)\n",
    "#         self.layer_2 = nn.Linear(64, 32)\n",
    "#         self.layer_out = nn.Linear(32, 1)\n",
    "#         self.relu = nn.ReLU()\n",
    "#         self.dropout = nn.Dropout(p=0.1)\n",
    "#         self.batchnorm1 = nn.BatchNorm1d(64)\n",
    "#         self.batchnorm2 = nn.BatchNorm1d(32)\n",
    "        \n",
    "#     def forward(self, inputs):\n",
    "#         x = self.scaler(inputs)\n",
    "#         x = x.to(self.layer_1.weight.dtype) \n",
    "#         x = self.relu(self.layer_1(x))\n",
    "#         x = self.batchnorm1(x)\n",
    "#         x = self.dropout(x)\n",
    "#         x = self.relu(self.layer_2(x))\n",
    "#         x = self.batchnorm2(x)\n",
    "#         x = self.dropout(x)\n",
    "#         x = self.layer_out(x)\n",
    "#         return x\n",
    "    \n",
    "#     def training_step(self, batch, batch_idx):\n",
    "#         x, y = batch\n",
    "#         y_pred = self(x)\n",
    "#         loss = nn.BCEWithLogitsLoss()(y_pred.view(-1), y.type_as(y_pred))\n",
    "#         self.log('train_loss', loss)\n",
    "#         return loss\n",
    "\n",
    "#     def validation_step(self, batch, batch_idx):\n",
    "#         x, y = batch\n",
    "#         y_pred = self(x)\n",
    "#         y_pred_tag = (torch.sigmoid(y_pred.view(-1)) > 0.5).float()\n",
    "#         correct = (y_pred_tag == y).float().sum()\n",
    "#         acc = correct/y.shape[0]\n",
    "#         self.log('val_acc', acc)\n",
    "    \n",
    "#     def configure_optimizers(self):\n",
    "#         return torch.optim.Adam(self.parameters(), lr=0.02)"
   ]
  },
  {
   "cell_type": "code",
   "execution_count": 17,
   "id": "803f2408-3256-495d-be2d-4303d109be39",
   "metadata": {
    "jupyter": {
     "source_hidden": true
    }
   },
   "outputs": [],
   "source": [
    "# class SilentProgressBar(ProgressBar):\n",
    "\n",
    "#     def disable(self):\n",
    "#         self.enabled = False"
   ]
  },
  {
   "cell_type": "code",
   "execution_count": 18,
   "id": "1fa9ea68-acdc-45a9-929d-1e3dbcdb1803",
   "metadata": {
    "jupyter": {
     "source_hidden": true
    }
   },
   "outputs": [],
   "source": [
    "# def get_predictions(model, dataloader):\n",
    "#     model.eval()  # set the model to evaluation mode\n",
    "#     predictions = []\n",
    "#     with torch.no_grad():  # deactivate autograd engine to reduce memory usage and speed up computations\n",
    "#         for batch in dataloader:\n",
    "#             data, _ = batch\n",
    "#             outputs = model(data)\n",
    "#             predicted = (torch.sigmoid(outputs.view(-1)) > 0.5).float()\n",
    "#             predictions.extend(predicted.tolist())\n",
    "#     return predictions"
   ]
  },
  {
   "cell_type": "markdown",
   "id": "5d226ebe-d7b8-4be1-82c4-99fd32f0ed12",
   "metadata": {},
   "source": [
    "## Model 3 - Fit NN Model "
   ]
  },
  {
   "cell_type": "code",
   "execution_count": 19,
   "id": "7d230130-2f98-434f-b013-9584929c0f18",
   "metadata": {
    "jupyter": {
     "source_hidden": true
    }
   },
   "outputs": [],
   "source": [
    "# # Training the model\n",
    "# model = BinaryClassifier(torch.from_numpy(train_mean), torch.from_numpy(train_std))\n",
    "# bar = SilentProgressBar()\n",
    "# logger = TensorBoardLogger('tb_logs', name='my_model')"
   ]
  },
  {
   "cell_type": "code",
   "execution_count": 20,
   "id": "8ac4b213-3d66-444e-99b0-60c0bec03921",
   "metadata": {
    "jupyter": {
     "source_hidden": true
    }
   },
   "outputs": [],
   "source": [
    "# trainer = pl.Trainer(max_epochs=10, callbacks=[bar], logger=logger)\n",
    "# trainer.fit(model, DataLoader(train_data, batch_size=64), DataLoader(test_data, batch_size=64))"
   ]
  },
  {
   "cell_type": "code",
   "execution_count": 21,
   "id": "9a9a4b5c-9e03-455e-92bd-9578d423d8e8",
   "metadata": {
    "jupyter": {
     "source_hidden": true
    }
   },
   "outputs": [],
   "source": [
    "# %load_ext tensorboard\n",
    "# %tensorboard --logdir tb_logs/ --port 6014"
   ]
  },
  {
   "cell_type": "code",
   "execution_count": 22,
   "id": "75836695-4147-4a5c-a819-e166bff201ce",
   "metadata": {
    "jupyter": {
     "source_hidden": true
    },
    "scrolled": true
   },
   "outputs": [],
   "source": [
    "# train_loader = DataLoader(train_data, batch_size=64)\n",
    "# test_loader = DataLoader(test_data, batch_size=64)\n",
    "\n",
    "# train_preds = get_predictions(model, train_loader)\n",
    "# test_preds = get_predictions(model, test_loader)\n",
    "\n",
    "# # Calculate and print the accuracy\n",
    "# train_accuracy = accuracy_score(y_train, train_preds)\n",
    "# test_accuracy = accuracy_score(y_test, test_preds)\n",
    "\n",
    "# print(f\"Train accuracy: {train_accuracy}\")\n",
    "# print(f\"Test accuracy: {test_accuracy}\")\n",
    "\n",
    "# create_confusion_matrix(y_test, test_preds)"
   ]
  }
 ],
 "metadata": {
  "kernelspec": {
   "display_name": "Python 3 (ipykernel)",
   "language": "python",
   "name": "python3"
  },
  "language_info": {
   "codemirror_mode": {
    "name": "ipython",
    "version": 3
   },
   "file_extension": ".py",
   "mimetype": "text/x-python",
   "name": "python",
   "nbconvert_exporter": "python",
   "pygments_lexer": "ipython3",
   "version": "3.11.4"
  }
 },
 "nbformat": 4,
 "nbformat_minor": 5
}
